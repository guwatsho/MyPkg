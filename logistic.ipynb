{
 "cells": [
  {
   "cell_type": "code",
   "execution_count": null,
   "metadata": {},
   "outputs": [],
   "source": [
    "# Compute the derivative of N(t)\n",
    "deriv_Nt(nt, K, r) = r*nt*(1-nt/K)\n",
    "\n",
    "# Compute N(t + h)\n",
    "next_Nt(nt, K, r, h) = nt + h*deriv_Nt(nt, K, r)"
   ]
  },
  {
   "cell_type": "code",
   "execution_count": null,
   "metadata": {},
   "outputs": [],
   "source": [
    "# 各種パラメータを定義\n",
    "tmax = 10.0 # 終了時刻\n",
    "r = 1.0 # パラメータ1\n",
    "#r=1だとrは整数型になってしまう\n",
    "K = 10.0 #パラメータ2\n",
    "N0 = 1.0 # 人口の初期値\n",
    "numtimes  = 100 # 0 ≦ t < tmaxの分割数\n",
    "\n",
    "\n",
    "h = tmax/numtimes"
   ]
  },
  {
   "cell_type": "code",
   "execution_count": null,
   "metadata": {},
   "outputs": [],
   "source": [
    "deriv_Nt(N0,r,K)"
   ]
  },
  {
   "cell_type": "code",
   "execution_count": null,
   "metadata": {},
   "outputs": [],
   "source": [
    "@code_warntype deriv_Nt(N0,r,K)"
   ]
  },
  {
   "cell_type": "code",
   "execution_count": 6,
   "metadata": {},
   "outputs": [],
   "source": [
    "results = Vector{Float64}(undef, numtimes+1)\n",
    "\n",
    "# 初期値\n",
    "results[1] = N0\n",
    "\n",
    "# 時間発展\n",
    "for t in 1:numtimes\n",
    "    results[t+1] = next_Nt(results[t], K, r, h)\n",
    "end"
   ]
  },
  {
   "cell_type": "code",
   "execution_count": null,
   "metadata": {},
   "outputs": [],
   "source": [
    "results"
   ]
  },
  {
   "cell_type": "code",
   "execution_count": null,
   "metadata": {},
   "outputs": [],
   "source": [
    "using Plots\n",
    "plot(results)\n",
    "\n",
    "times = LinRange(0, tmax, numtimes+1)\n",
    "plot(times, results, label=\"Numerical\", xlabel=\"time\")"
   ]
  },
  {
   "cell_type": "code",
   "execution_count": null,
   "metadata": {},
   "outputs": [],
   "source": [
    "exact_Nt(time) = K/(1+(K-N0) / N0 * exp(-r*time))"
   ]
  },
  {
   "cell_type": "code",
   "execution_count": null,
   "metadata": {},
   "outputs": [],
   "source": [
    "exact_Nt(tmax)"
   ]
  },
  {
   "cell_type": "code",
   "execution_count": null,
   "metadata": {},
   "outputs": [],
   "source": [
    "err = abs.(results .- exact_Nt.(times))     #'.'がないと配列の成分同士の引き算できない\n",
    "\n",
    "p = plot(yaxis=:log, ylims=(1e-10, 1000),  xlabel=\"time\")\n",
    "plot!(p, times, results, label=\"Numerical\")\n",
    "plot!(p, times, err, marker=:x, label=\"Error\")"
   ]
  },
  {
   "cell_type": "code",
   "execution_count": null,
   "metadata": {},
   "outputs": [],
   "source": [
    "#objectiid\n"
   ]
  },
  {
   "cell_type": "code",
   "execution_count": null,
   "metadata": {},
   "outputs": [],
   "source": [
    "using DifferentialEquations\n",
    "\n",
    "# ロジスティック方程式の定義\n",
    "function logistic!(du, u, params, t)\n",
    "    r, K = params\n",
    "    du[1] = r * u[1] * (1 - u[1]/K)\n",
    "end\n",
    "\n",
    "# パラメータの設定\n",
    "params = (r, K)\n",
    "\n",
    "# 初期条件の設定\n",
    "u0 = [1.0]  # 開始時点の人口サイズ\n",
    "\n",
    "# 時間範囲の設定\n",
    "tspan = (0.0, tmax)\n",
    "\n",
    "# 問題の設定\n",
    "prob = ODEProblem(logistic!, u0, tspan, params)\n",
    "\n",
    "# 微分方程式の解 (5次のルンゲクッタ法)\n",
    "sol = solve(prob, Tsit5(), abstol=1e-8, reltol=1e-8)"
   ]
  },
  {
   "cell_type": "code",
   "execution_count": null,
   "metadata": {},
   "outputs": [],
   "source": [
    "\n",
    "results_de = [u_[1] for u_ in sol.u]       #~=pythonの内包表現"
   ]
  },
  {
   "cell_type": "code",
   "execution_count": null,
   "metadata": {},
   "outputs": [],
   "source": [
    "# 解のプロット\n",
    "\n",
    "results_de = [u_[1] for u_ in sol.u]\n",
    "\n",
    "p = plot(yaxis=:log, ylims=(1e-10, 1000),  xlabel=\"time\")\n",
    "plot!(p, sol.t, results_de, marker=:o)\n",
    "plot!(p, sol.t, abs.(results_de .- exact_Nt.(sol.t)), label=\"error\")"
   ]
  },
  {
   "cell_type": "code",
   "execution_count": null,
   "metadata": {},
   "outputs": [],
   "source": []
  }
 ],
 "metadata": {
  "kernelspec": {
   "display_name": "Julia 1.8.5",
   "language": "julia",
   "name": "julia-1.8"
  },
  "language_info": {
   "file_extension": ".jl",
   "mimetype": "application/julia",
   "name": "julia",
   "version": "1.8.5"
  },
  "orig_nbformat": 4
 },
 "nbformat": 4,
 "nbformat_minor": 2
}
